{
 "cells": [
  {
   "cell_type": "markdown",
   "metadata": {
    "_cell_guid": "b1076dfc-b9ad-4769-8c92-a6c4dae69d19",
    "_uuid": "8f2839f25d086af736a60e9eeb907d3b93b6e0e5"
   },
   "source": [
    "# Analyzing Healthcare data (Exploratory Data Analysis 101)"
   ]
  },
  {
   "cell_type": "markdown",
   "metadata": {
    "_cell_guid": "79c7e3d0-c299-4dcb-8224-4455121ee9b0",
    "_uuid": "d629ff2d2480ee46fbb7e2d37f6b5fab8052498a",
    "collapsed": true
   },
   "source": [
    "Having been tired of Titanic Exploration and Iris Exploration, I thought it might be refreshing to use a new realworld dataset to explore! This kernel is primarily aimed at beginners to Exploratory Data Analysis although anybody can enjoy crunching the stats."
   ]
  },
  {
   "cell_type": "markdown",
   "metadata": {
    "_uuid": "c1db25917e8528c34beac7466e978eda154970d6"
   },
   "source": [
    "> \"I'm tired of Titanic Exploration and Iris Exploration\" - Abraham Lincoln (2005)"
   ]
  },
  {
   "cell_type": "markdown",
   "metadata": {
    "_uuid": "aea8db27e486c1c26418a782a8a081c50d7da7f3"
   },
   "source": [
    "## Introduction "
   ]
  },
  {
   "cell_type": "markdown",
   "metadata": {
    "_uuid": "c3634a5da5eb2b84bab4c4f2912c8d6d8a0df46a"
   },
   "source": [
    "NTR Vaidya Seva (or Arogya Seva) is the flagship healthcare scheme of the Goverment of Andhra Pradesh, India in which lower-middle class and low-income citizens of the state of Andhra Pradesh can obtain free healthcare for many major diseases and ailments. A similar program exists in the neighboring state of Telangana as well. "
   ]
  },
  {
   "cell_type": "markdown",
   "metadata": {
    "_uuid": "44db94a8c4fb80c1198142503f13be5ac8b59977"
   },
   "source": [
    "## Let's Code!"
   ]
  },
  {
   "cell_type": "markdown",
   "metadata": {
    "_uuid": "2096876a1726710169d7532650d02ba5e6fb6a27"
   },
   "source": [
    "We will start by importing the requisite libraries:\n",
    "* *Pandas* for Data Loading and Exploration\n",
    "* *Matplotlib, Seaborn* for Visualization."
   ]
  },
  {
   "cell_type": "code",
   "execution_count": null,
   "metadata": {
    "_uuid": "d9a347c9f1d9e2417f882e80145701e44499de16"
   },
   "outputs": [],
   "source": [
    "# import requisite libraries \n",
    "import pandas as pd\n",
    "import matplotlib.pyplot as plt\n",
    "%matplotlib inline\n",
    "import seaborn as sns\n",
    "pd.Series.__unicode__ = pd.Series.to_string"
   ]
  },
  {
   "cell_type": "markdown",
   "metadata": {
    "_uuid": "c1aa9fc946bc3551c4627928f37e0a628cc0a972"
   },
   "source": [
    "let's read the dataset file into the kernel using Pandas *read_csv* function. read_csv can comfortably read Comma Separated Values (csv) files while *read_table* is used for other file types (like xlsx).\n",
    "\n",
    "there are no restrictions in naming the data variable. *df*, *data* are the most common generic terms. We will go with *data*."
   ]
  },
  {
   "cell_type": "code",
   "execution_count": null,
   "metadata": {
    "_uuid": "281f7407d81726f5658ce4eb26e03df2998dab26"
   },
   "outputs": [],
   "source": [
    "# read dataset into kernel\n",
    "data = pd.read_csv(\"../input/ntrarogyaseva.csv.zip\")"
   ]
  },
  {
   "cell_type": "markdown",
   "metadata": {
    "_uuid": "949c0003ecd61b2028abb2e7bc0bd8143c78e349"
   },
   "source": [
    "Have a look at the data using the *head()* function that displays top 5 rows by default."
   ]
  },
  {
   "cell_type": "code",
   "execution_count": null,
   "metadata": {
    "_uuid": "292364f7ff86622b5f54e6408dc929eeca2ecde2"
   },
   "outputs": [],
   "source": [
    "# display top rows using head \n",
    "data.head()\n",
    "# data.head(10) for top 10 rows"
   ]
  },
  {
   "cell_type": "markdown",
   "metadata": {
    "_uuid": "ad5cb3a33ba0a2d3e28dfbca46379fd58288c511"
   },
   "source": [
    "let's print summary statistics (descriptive statistics) of the numeric columns in data. We will use the *describe* function of the data for this."
   ]
  },
  {
   "cell_type": "code",
   "execution_count": null,
   "metadata": {
    "_uuid": "7df4c2f7e8da9f29fa2ee72ccf5ff6324b264bca"
   },
   "outputs": [],
   "source": [
    "# print summary statistics\n",
    "data.describe()"
   ]
  },
  {
   "cell_type": "markdown",
   "metadata": {
    "_uuid": "f46a3e2d51b788921ff9667aeefeae4acf5b0900"
   },
   "source": [
    "let's have a look at all the column names of the data. "
   ]
  },
  {
   "cell_type": "code",
   "execution_count": null,
   "metadata": {
    "_kg_hide-input": false,
    "_kg_hide-output": false,
    "_uuid": "3994dacd6627fe5fd89832fd4d355eb114fd55b8"
   },
   "outputs": [],
   "source": [
    "# display all the column names in the data\n",
    "data.columns"
   ]
  },
  {
   "cell_type": "markdown",
   "metadata": {
    "_uuid": "c62aea5ceff3e742443abe2fa8ce43c914a1f50c"
   },
   "source": [
    "## Diving deeper into the data"
   ]
  },
  {
   "cell_type": "markdown",
   "metadata": {
    "_uuid": "bffee16b17d1eaade1d9038bcce91f17f0b37e57"
   },
   "source": [
    "### What is the age distribution of the data?"
   ]
  },
  {
   "cell_type": "markdown",
   "metadata": {
    "_uuid": "57643886b47dfe5b4c1ede755944617d8196df9e"
   },
   "source": [
    "*value_counts()* is a Pandas function that can be used to print the distributions of data (in the specified column). Let's begin by checking the gender stats of the data."
   ]
  },
  {
   "cell_type": "code",
   "execution_count": null,
   "metadata": {
    "_uuid": "f5fe97a1545fa7e0ff484e70ea06c7696ce192f8"
   },
   "outputs": [],
   "source": [
    "# Display the counts of each value in the SEX column\n",
    "data['SEX'].value_counts()"
   ]
  },
  {
   "cell_type": "markdown",
   "metadata": {
    "_uuid": "e194cef08961d651834ed9bfaceccfb97402bf30"
   },
   "source": [
    "Oops! It looks like there are duplicate values in this column. *Male* and *MALE* are not two different genders! \n",
    "\n",
    "We can *replace* the column names to fix this issue. I will also rename Male (Child) -> Boy and Female (Child) -> Girl for convinience purposes."
   ]
  },
  {
   "cell_type": "code",
   "execution_count": null,
   "metadata": {
    "_uuid": "99a7772d15e3a171ab6e48a423eb43afa7831e8f"
   },
   "outputs": [],
   "source": [
    "# mappings to standardize and clean the values\n",
    "mappings = {'MALE' : 'Male', 'FEMALE' : 'Female', 'Male(Child)' : 'Boy', 'Female(Child)' : 'Girl'}"
   ]
  },
  {
   "cell_type": "code",
   "execution_count": null,
   "metadata": {
    "_uuid": "79f45ad169d6a28068bff0d7b41264701c400a18"
   },
   "outputs": [],
   "source": [
    "# replace values using the defined mappings\n",
    "data['SEX'] = data['SEX'].replace(mappings)\n",
    "data['SEX'].value_counts()"
   ]
  },
  {
   "cell_type": "markdown",
   "metadata": {
    "_uuid": "d0240556a5b1f04e24ec9fd934deeefed64738c8"
   },
   "source": [
    "Visualizing this distribution can be done easily using the in-built plot function of Pandas."
   ]
  },
  {
   "cell_type": "code",
   "execution_count": null,
   "metadata": {
    "_uuid": "dcda1f0b90c7be08de6afe1b793c98798fe1f36b"
   },
   "outputs": [],
   "source": [
    "# plot the value counts of sex \n",
    "data['SEX'].value_counts().plot.bar()"
   ]
  },
  {
   "cell_type": "markdown",
   "metadata": {
    "_uuid": "054bd96effe714b478ce136b7e39fb3970d0b5b8"
   },
   "source": [
    "### What is the age distribution of the data?"
   ]
  },
  {
   "cell_type": "markdown",
   "metadata": {
    "_uuid": "f9970fbf7c21aff98cba076ba47e3a46b2430085"
   },
   "source": [
    "Mean, Median and Mode of the data."
   ]
  },
  {
   "cell_type": "code",
   "execution_count": null,
   "metadata": {
    "_uuid": "ec00f8bb13699429867785ec79d42b78d1a13739"
   },
   "outputs": [],
   "source": [
    "# print the mean, median and mode of the age distribution\n",
    "print(\"Mean: {}\".format(data['AGE'].mean()))\n",
    "print(\"Median: {}\".format(data['AGE'].median()))\n",
    "print(\"Mode: {}\".format(data['AGE'].mode()))"
   ]
  },
  {
   "cell_type": "markdown",
   "metadata": {
    "_uuid": "83ad4c4247b0293100eb08cee636837b17d9d7a7"
   },
   "source": [
    "Top 10 common ages of the data. Feel free to play around by replacing 10 with the number of your choice."
   ]
  },
  {
   "cell_type": "code",
   "execution_count": null,
   "metadata": {
    "_uuid": "9eb0488d786f60d452568411aea1982fa7997d10"
   },
   "outputs": [],
   "source": [
    "# print the top 10 ages\n",
    "data['AGE'].value_counts().head(10)"
   ]
  },
  {
   "cell_type": "markdown",
   "metadata": {
    "_uuid": "40562a32ee01a6a2854713f9a5a5af61577ed964"
   },
   "source": [
    "Box plots are commonly used for visualizing a distribution when bar plots or scatter plots are too overwhelming to understand."
   ]
  },
  {
   "cell_type": "code",
   "execution_count": null,
   "metadata": {
    "_uuid": "2e720e15a7bdc74cf3f5a3937bc30e0ac7c24cea"
   },
   "outputs": [],
   "source": [
    "# boxplot for age variable\n",
    "data['AGE'].plot.box()\n",
    "# sns.boxplot(data['AGE'])"
   ]
  },
  {
   "cell_type": "markdown",
   "metadata": {
    "_uuid": "ce0456471733af1564ae8ed4a387babf82461962"
   },
   "source": [
    "in the above diagram, the box represents the **[Interquartile Range (IQR)](http://https://en.wikipedia.org/wiki/Interquartile_range)** of the data. \n",
    "\n",
    "Interquartile range is the region where 50% of the data lies (i.e) 25% to 75% of the data.\n",
    "Any data outside 1.5 times the IQR is generally considered an anomaly.  \n",
    "\n",
    "The little circles in the above figure are considered outliters.\n",
    "\n",
    "The seaborn library visualizes boxplot much better."
   ]
  },
  {
   "cell_type": "code",
   "execution_count": null,
   "metadata": {
    "_uuid": "9767310db76ef5327401e52828acaed806005569"
   },
   "outputs": [],
   "source": [
    "# better looking boxplot (using seaborn) for age variable\n",
    "sns.boxplot(data['AGE'])"
   ]
  },
  {
   "cell_type": "markdown",
   "metadata": {
    "_uuid": "e920506fd8b4015db64a9e561c65cf3040cc1c11"
   },
   "source": [
    "### Answering some questions"
   ]
  },
  {
   "cell_type": "markdown",
   "metadata": {
    "_uuid": "80f9d6152640714c896924754e6f92798064b070"
   },
   "source": [
    "Now that we have a hold on the data being explored, let's jump into some questions to better understand the data!"
   ]
  },
  {
   "cell_type": "markdown",
   "metadata": {
    "_uuid": "a783ae63d8383ffc47b13567c81c9d7de722434e"
   },
   "source": [
    "**What if I wanted to analyze only the records pertaining to the district of Krishna?**\n",
    "\n",
    "I would have to select a subset of the data to proceed. Thankfully, Pandas can help us do that too, in two steps:\n",
    "    1. Condition to satisfy: data['DISTRICT_NAME']=='Krishna'\n",
    "    2. Inserting the condition into the dataframe: data[data['DISTRICT_NAME']=='Krishna']\n",
    "      "
   ]
  },
  {
   "cell_type": "code",
   "execution_count": null,
   "metadata": {
    "_uuid": "7856e814e3611237be2daca829949c342776265b"
   },
   "outputs": [],
   "source": [
    "# subset involving only records of Krishna district\n",
    "data[data['DISTRICT_NAME']=='Krishna'].head()"
   ]
  },
  {
   "cell_type": "markdown",
   "metadata": {
    "_uuid": "9c242fd17479160f20a3a36f92f26d7998ea2b39"
   },
   "source": [
    "**Most prevalent surgery, district wise**\n",
    "\n",
    "Can be done by iterating through all the district names and selecting the subset of data for that district"
   ]
  },
  {
   "cell_type": "code",
   "execution_count": null,
   "metadata": {
    "_kg_hide-input": false,
    "_uuid": "10eb76eebb7eb16a9540e7028f9bc01cab634a86"
   },
   "outputs": [],
   "source": [
    "# Most common surgery by district\n",
    "for i in data['DISTRICT_NAME'].unique():\n",
    "    print(\"District: {}\\nDisease and Count: {}\".format(i,data[data['DISTRICT_NAME']==i]['SURGERY'].value_counts().head(1)))"
   ]
  },
  {
   "cell_type": "markdown",
   "metadata": {
    "_uuid": "1edf4c4e5ffe16a32ce01f87252fcecbbff4f2fb"
   },
   "source": [
    "We can observe that only two surgeries top all the districts: \n",
    "    * Dialysis (7 districts)\n",
    "    * Longbone Fracture (6 districts)"
   ]
  },
  {
   "cell_type": "markdown",
   "metadata": {
    "_uuid": "515f4c29401c3926da12f9a74bc355dadaa412f3"
   },
   "source": [
    "**Average claim amount, district wise**"
   ]
  },
  {
   "cell_type": "code",
   "execution_count": null,
   "metadata": {
    "_uuid": "a9388061e6230b1d17901bd3a90c53e118e18ffd",
    "scrolled": true
   },
   "outputs": [],
   "source": [
    "# Average claim amount for surgery by district\n",
    "for i in data['DISTRICT_NAME'].unique():\n",
    "    print(\"District: {}\\nAverage Claim Amount: ₹{}\".format(i,data[data['DISTRICT_NAME']==i]['CLAIM_AMOUNT'].mean()))"
   ]
  },
  {
   "cell_type": "markdown",
   "metadata": {
    "_uuid": "14390a8e64a68ef435bc2c5b0e8a0e7127c7de75"
   },
   "source": [
    "The standard deviation doesn't seem to be quite high in this case. Guntur district leads the pack with ₹31048 while Vizianagaram comes last with ₹25097"
   ]
  },
  {
   "cell_type": "markdown",
   "metadata": {
    "_uuid": "0b41795fc91b7eb47b5a3c17a13bec8815fdde74"
   },
   "source": [
    "**Statistics by surgery category**\n",
    "\n",
    "We will be using the Pandas GroupBy construct to gather statistics by grouping data by the surgery category.  The groupby of Pandas works similar to the SQL command of the same name"
   ]
  },
  {
   "cell_type": "code",
   "execution_count": null,
   "metadata": {
    "_uuid": "017c61dd85a6157ccd2eca1e362220da917b5abd"
   },
   "outputs": [],
   "source": [
    "# group by surgery category to get mean statistics\n",
    "data.groupby('CATEGORY_NAME').mean()"
   ]
  },
  {
   "cell_type": "markdown",
   "metadata": {
    "_uuid": "470cdfbcf914cc518d1525c384be7895436bb2e4"
   },
   "source": [
    "Cochlear Implant Surgery seems to be the costliest surgery, costing ₹520000 on average. Prostheses costs ₹1200, the cheapest. The youngest age group also happens to be for Cochlear Implant Surgery: 1.58 years, while Neurology has an average patient age of ~56."
   ]
  },
  {
   "cell_type": "markdown",
   "metadata": {
    "_uuid": "7010a66455e53939062a0530a3468eca2cf003d0"
   },
   "source": [
    "**Most common surgery by age group**\n",
    "\n",
    "To find the most common surgery by age group, let's round off the ages to the nearest ten's place. Make a copy of the dataframe for this operation as we would not want to tinker with the original dataframe."
   ]
  },
  {
   "cell_type": "code",
   "execution_count": null,
   "metadata": {
    "_uuid": "87545ae3eb1a4a4221e741037d57eb4603bc45f2"
   },
   "outputs": [],
   "source": [
    "# create a new memory copy of data to manipulate age \n",
    "dataround = data.copy()"
   ]
  },
  {
   "cell_type": "markdown",
   "metadata": {
    "_uuid": "299226d237b866bebee79abf06173393e09eb1c7"
   },
   "source": [
    "We will use the Pandas round function to round off the Age. *-1* specifies that we round up one digit to the left of the decimal place"
   ]
  },
  {
   "cell_type": "code",
   "execution_count": null,
   "metadata": {
    "_uuid": "ad4f2cc897cbbab1f682ed2f36d9b77abc41527b"
   },
   "outputs": [],
   "source": [
    "# round the age variable to 0 or 1 (nearest)\n",
    "dataround['AGE'] = dataround['AGE'].round(-1)"
   ]
  },
  {
   "cell_type": "markdown",
   "metadata": {
    "_uuid": "cf785a57d4529ab715db2a7cd1973e35249850d1"
   },
   "source": [
    "visualizing the age groups using seaborn's countplot function"
   ]
  },
  {
   "cell_type": "code",
   "execution_count": null,
   "metadata": {
    "_uuid": "5cc771e7f23696b1c097ac749d2a41458d06234b"
   },
   "outputs": [],
   "source": [
    "# a frequency plot for each age group\n",
    "sns.countplot(dataround['AGE'])"
   ]
  },
  {
   "cell_type": "markdown",
   "metadata": {
    "_uuid": "293cbab7ccc792be8215b052624d7b6c4355efa4"
   },
   "source": [
    "**Most common surgery per age group**"
   ]
  },
  {
   "cell_type": "code",
   "execution_count": null,
   "metadata": {
    "_uuid": "89fa2bca7a6b8ecdd54f295e14840079be8888d1"
   },
   "outputs": [],
   "source": [
    "# Most common surgery and count per age group\n",
    "for i in sorted(dataround['AGE'].unique()):\n",
    "    print(\"Age Group: {}\\nMost Common Surgery and Count: {}\".format(i,data[data['AGE']==i]['CATEGORY_NAME'].value_counts().head(1)))"
   ]
  },
  {
   "cell_type": "markdown",
   "metadata": {
    "_uuid": "8667c005b718c28b4dbf79add351bad8ddb6bca6"
   },
   "source": [
    "## Practise Exercises\n",
    "\n",
    "Feeling adventerous? Fork this notebook and solve the following challenges to get some practise!"
   ]
  },
  {
   "cell_type": "markdown",
   "metadata": {
    "_uuid": "5cdf389928501dc9cb490cc1dffcfa3bda6c7220"
   },
   "source": [
    "**Value counts of districts**"
   ]
  },
  {
   "cell_type": "code",
   "execution_count": null,
   "metadata": {
    "_uuid": "454eddd91498a611784c58f39a620e0ae76b0847"
   },
   "outputs": [],
   "source": []
  },
  {
   "cell_type": "markdown",
   "metadata": {
    "_uuid": "297d9249d4ed9383cdda2be2e528538f7ca3f54a"
   },
   "source": [
    "**Average claim amount for male patients**"
   ]
  },
  {
   "cell_type": "code",
   "execution_count": null,
   "metadata": {
    "_uuid": "73cce59724c9a9147fc5917264d45fa2e3d9f6a6"
   },
   "outputs": [],
   "source": []
  },
  {
   "cell_type": "markdown",
   "metadata": {
    "_uuid": "c56b1c322400a557492f2abcde42048fae357b3f"
   },
   "source": [
    "**Most common hospital names for treatment**"
   ]
  },
  {
   "cell_type": "code",
   "execution_count": null,
   "metadata": {
    "_uuid": "a640c071e4f5a7db0249674ea1240af26e1a3237"
   },
   "outputs": [],
   "source": []
  },
  {
   "cell_type": "markdown",
   "metadata": {
    "_uuid": "e70fd88ca33ce86eefaa22879ffaeaa7020aa613"
   },
   "source": [
    "**Most common age groups  by district** (hint: use dataround)"
   ]
  },
  {
   "cell_type": "code",
   "execution_count": null,
   "metadata": {
    "_uuid": "97d0b8428c9a70df1543c5182840d97a44796713"
   },
   "outputs": [],
   "source": []
  },
  {
   "cell_type": "markdown",
   "metadata": {
    "_uuid": "3771d1d3d0dfac109f33c6788f2b63aacce1308f"
   },
   "source": [
    "**Add your own questions here!**"
   ]
  },
  {
   "cell_type": "code",
   "execution_count": null,
   "metadata": {
    "_uuid": "472909464bdfe58e1a75538b8164eb402e88aaaf"
   },
   "outputs": [],
   "source": []
  },
  {
   "cell_type": "markdown",
   "metadata": {
    "_uuid": "81a24721550c8e80591556b0f3c980be7126dbc5"
   },
   "source": [
    "## The End"
   ]
  },
  {
   "cell_type": "markdown",
   "metadata": {
    "_uuid": "8fcda9aec50cd669784004a0083770b8ebd27ce2"
   },
   "source": [
    "You're reached the end of the notebook. Congratulations!\n",
    "\n",
    "I really hope you learnt something and enjoyed going through this notebook. If yes, please upvote and share the notebook!\n",
    "\n",
    "Feedback? Corrections? Applause? Please comment below! \n",
    "\n",
    "This is my first public educative kernel. I hope my performance improves over epochs!\n"
   ]
  }
 ],
 "metadata": {
  "kernelspec": {
   "display_name": "Python 3",
   "language": "python",
   "name": "python3"
  },
  "language_info": {
   "codemirror_mode": {
    "name": "ipython",
    "version": 3
   },
   "file_extension": ".py",
   "mimetype": "text/x-python",
   "name": "python",
   "nbconvert_exporter": "python",
   "pygments_lexer": "ipython3",
   "version": "3.6.5"
  }
 },
 "nbformat": 4,
 "nbformat_minor": 1
}
