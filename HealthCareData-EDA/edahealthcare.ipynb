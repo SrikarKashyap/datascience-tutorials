{
  "cells": [
    {
      "metadata": {
        "_uuid": "8f2839f25d086af736a60e9eeb907d3b93b6e0e5",
        "_cell_guid": "b1076dfc-b9ad-4769-8c92-a6c4dae69d19",
        "trusted": true
      },
      "cell_type": "markdown",
      "source": "# Analyzing Healthcare data (Exploratory Data Analysis 101)"
    },
    {
      "metadata": {
        "_cell_guid": "79c7e3d0-c299-4dcb-8224-4455121ee9b0",
        "collapsed": true,
        "_uuid": "d629ff2d2480ee46fbb7e2d37f6b5fab8052498a",
        "trusted": false
      },
      "cell_type": "markdown",
      "source": "Having been tired of Titanic Exploration and Iris Exploration, I thought it might be refreshing to use a new realworld dataset to explore! This kernel is primarily aimed at beginners to Exploratory Data Analysis although anybody can enjoy crunching the stats."
    },
    {
      "metadata": {
        "_uuid": "c1db25917e8528c34beac7466e978eda154970d6"
      },
      "cell_type": "markdown",
      "source": "> \"I'm tired of Titanic Exploration and Iris Exploration\" - Abraham Lincoln (2005)"
    },
    {
      "metadata": {
        "_uuid": "aea8db27e486c1c26418a782a8a081c50d7da7f3"
      },
      "cell_type": "markdown",
      "source": "## Introduction "
    },
    {
      "metadata": {
        "_uuid": "c3634a5da5eb2b84bab4c4f2912c8d6d8a0df46a"
      },
      "cell_type": "markdown",
      "source": "NTR Vaidya Seva (or Arogya Seva) is the flagship healthcare scheme of the Goverment of Andhra Pradesh, India in which lower-middle class and low-income citizens of the state of Andhra Pradesh can obtain free healthcare for many major diseases and ailments. A similar program exists in the neighboring state of Telangana as well. "
    },
    {
      "metadata": {
        "_uuid": "44db94a8c4fb80c1198142503f13be5ac8b59977"
      },
      "cell_type": "markdown",
      "source": "## Let's Code!"
    },
    {
      "metadata": {
        "_uuid": "2096876a1726710169d7532650d02ba5e6fb6a27"
      },
      "cell_type": "markdown",
      "source": "We will start by importing the requisite libraries:\n* *Pandas* for Data Loading and Exploration\n* *Matplotlib, Seaborn* for Visualization."
    },
    {
      "metadata": {
        "trusted": true,
        "_uuid": "d9a347c9f1d9e2417f882e80145701e44499de16"
      },
      "cell_type": "code",
      "source": "# import requisite libraries \nimport pandas as pd\nimport matplotlib.pyplot as plt\n%matplotlib inline\nimport seaborn as sns\npd.Series.__unicode__ = pd.Series.to_string",
      "execution_count": 22,
      "outputs": []
    },
    {
      "metadata": {
        "_uuid": "c1aa9fc946bc3551c4627928f37e0a628cc0a972"
      },
      "cell_type": "markdown",
      "source": "let's read the dataset file into the kernel using Pandas *read_csv* function. read_csv can comfortably read Comma Separated Values (csv) files while *read_table* is used for other file types (like xlsx).\n\nthere are no restrictions in naming the data variable. *df*, *data* are the most common generic terms. We will go with *data*."
    },
    {
      "metadata": {
        "trusted": true,
        "_uuid": "281f7407d81726f5658ce4eb26e03df2998dab26"
      },
      "cell_type": "code",
      "source": "# read dataset into kernel\ndata = pd.read_csv(\"../input/ntrarogyaseva.csv\")",
      "execution_count": 23,
      "outputs": []
    },
    {
      "metadata": {
        "_uuid": "949c0003ecd61b2028abb2e7bc0bd8143c78e349"
      },
      "cell_type": "markdown",
      "source": "Have a look at the data using the *head()* function that displays top 5 rows by default."
    },
    {
      "metadata": {
        "trusted": true,
        "_uuid": "292364f7ff86622b5f54e6408dc929eeca2ecde2"
      },
      "cell_type": "code",
      "source": "# display top rows using head \ndata.head()\n# data.head(10) for top 10 rows",
      "execution_count": 24,
      "outputs": [
        {
          "output_type": "execute_result",
          "execution_count": 24,
          "data": {
            "text/plain": "        AGE       ...        MORTALITY_DATE SRC_REGISTRATION\n0    1   56       ...                   NaN                D\n1    2   37       ...                   NaN                D\n2    3   50       ...                   NaN                D\n3    4   45       ...                   NaN                D\n4    5   54       ...                   NaN                D\n\n[5 rows x 24 columns]",
            "text/html": "<div>\n<style scoped>\n    .dataframe tbody tr th:only-of-type {\n        vertical-align: middle;\n    }\n\n    .dataframe tbody tr th {\n        vertical-align: top;\n    }\n\n    .dataframe thead th {\n        text-align: right;\n    }\n</style>\n<table border=\"1\" class=\"dataframe\">\n  <thead>\n    <tr style=\"text-align: right;\">\n      <th></th>\n      <th></th>\n      <th>AGE</th>\n      <th>SEX</th>\n      <th>CASTE_NAME</th>\n      <th>CATEGORY_CODE</th>\n      <th>CATEGORY_NAME</th>\n      <th>SURGERY_CODE</th>\n      <th>SURGERY</th>\n      <th>VILLAGE</th>\n      <th>MANDAL_NAME</th>\n      <th>DISTRICT_NAME</th>\n      <th>PREAUTH_DATE</th>\n      <th>PREAUTH_AMT</th>\n      <th>CLAIM_DATE</th>\n      <th>CLAIM_AMOUNT</th>\n      <th>HOSP_NAME</th>\n      <th>HOSP_TYPE</th>\n      <th>HOSP_LOCATION</th>\n      <th>HOSP_DISTRICT</th>\n      <th>SURGERY_DATE</th>\n      <th>DISCHARGE_DATE</th>\n      <th>Mortality Y / N</th>\n      <th>MORTALITY_DATE</th>\n      <th>SRC_REGISTRATION</th>\n    </tr>\n  </thead>\n  <tbody>\n    <tr>\n      <th>0</th>\n      <td>1</td>\n      <td>56</td>\n      <td>Female</td>\n      <td>BC</td>\n      <td>M6</td>\n      <td>NEPHROLOGY</td>\n      <td>M6.5</td>\n      <td>Maintenance Hemodialysis For Crf</td>\n      <td>Lolugu</td>\n      <td>Ponduru</td>\n      <td>Srikakulam</td>\n      <td>03/08/2013 20:38:48</td>\n      <td>12500</td>\n      <td>22/03/2017 20:25:18</td>\n      <td>11000</td>\n      <td>Rims Govt. General Hospital, Srikakulam</td>\n      <td>G</td>\n      <td>SRIKAKULAM</td>\n      <td>Srikakulam</td>\n      <td>06/08/2013 00:00:00</td>\n      <td>07/09/2013 00:00:00</td>\n      <td>NO</td>\n      <td>NaN</td>\n      <td>D</td>\n    </tr>\n    <tr>\n      <th>1</th>\n      <td>2</td>\n      <td>37</td>\n      <td>Male</td>\n      <td>BC</td>\n      <td>M6</td>\n      <td>NEPHROLOGY</td>\n      <td>M6.5</td>\n      <td>Maintenance Hemodialysis For Crf</td>\n      <td>Borivanka</td>\n      <td>Kaviti</td>\n      <td>Srikakulam</td>\n      <td>06/08/2013 07:26:15</td>\n      <td>12500</td>\n      <td>22/03/2017 20:25:18</td>\n      <td>11000</td>\n      <td>Rims Govt. General Hospital, Srikakulam</td>\n      <td>G</td>\n      <td>SRIKAKULAM</td>\n      <td>Srikakulam</td>\n      <td>08/08/2013 00:00:00</td>\n      <td>09/09/2013 00:00:00</td>\n      <td>NO</td>\n      <td>NaN</td>\n      <td>D</td>\n    </tr>\n    <tr>\n      <th>2</th>\n      <td>3</td>\n      <td>50</td>\n      <td>Male</td>\n      <td>BC</td>\n      <td>M6</td>\n      <td>NEPHROLOGY</td>\n      <td>M6.5</td>\n      <td>Maintenance Hemodialysis For Crf</td>\n      <td>Kapasakuddi</td>\n      <td>Kaviti</td>\n      <td>Srikakulam</td>\n      <td>09/08/2013 18:30:50</td>\n      <td>12500</td>\n      <td>22/03/2017 20:25:18</td>\n      <td>11500</td>\n      <td>Rims Govt. General Hospital, Srikakulam</td>\n      <td>G</td>\n      <td>SRIKAKULAM</td>\n      <td>Srikakulam</td>\n      <td>15/08/2013 00:00:00</td>\n      <td>18/10/2013 00:00:00</td>\n      <td>NO</td>\n      <td>NaN</td>\n      <td>D</td>\n    </tr>\n    <tr>\n      <th>3</th>\n      <td>4</td>\n      <td>45</td>\n      <td>Male</td>\n      <td>BC</td>\n      <td>M6</td>\n      <td>NEPHROLOGY</td>\n      <td>M6.5</td>\n      <td>Maintenance Hemodialysis For Crf</td>\n      <td>Telikipenta</td>\n      <td>Sarubujjili</td>\n      <td>Srikakulam</td>\n      <td>24/08/2013 19:37:41</td>\n      <td>12500</td>\n      <td>22/03/2017 20:25:18</td>\n      <td>11000</td>\n      <td>Rims Govt. General Hospital, Srikakulam</td>\n      <td>G</td>\n      <td>SRIKAKULAM</td>\n      <td>Srikakulam</td>\n      <td>24/08/2013 00:00:00</td>\n      <td>27/09/2013 00:00:00</td>\n      <td>NO</td>\n      <td>NaN</td>\n      <td>D</td>\n    </tr>\n    <tr>\n      <th>4</th>\n      <td>5</td>\n      <td>54</td>\n      <td>Male</td>\n      <td>BC</td>\n      <td>M6</td>\n      <td>NEPHROLOGY</td>\n      <td>M6.5</td>\n      <td>Maintenance Hemodialysis For Crf</td>\n      <td>Thandemvalasa</td>\n      <td>Srikakulam</td>\n      <td>Srikakulam</td>\n      <td>28/08/2013 17:03:07</td>\n      <td>12500</td>\n      <td>22/03/2017 20:25:19</td>\n      <td>11000</td>\n      <td>Rims Govt. General Hospital, Srikakulam</td>\n      <td>G</td>\n      <td>SRIKAKULAM</td>\n      <td>Srikakulam</td>\n      <td>31/08/2013 00:00:00</td>\n      <td>02/10/2013 00:00:00</td>\n      <td>NO</td>\n      <td>NaN</td>\n      <td>D</td>\n    </tr>\n  </tbody>\n</table>\n</div>"
          },
          "metadata": {}
        }
      ]
    },
    {
      "metadata": {
        "_uuid": "ad5cb3a33ba0a2d3e28dfbca46379fd58288c511"
      },
      "cell_type": "markdown",
      "source": "let's print summary statistics (descriptive statistics) of the numeric columns in data. We will use the *describe* function of the data for this."
    },
    {
      "metadata": {
        "trusted": true,
        "_uuid": "7df4c2f7e8da9f29fa2ee72ccf5ff6324b264bca"
      },
      "cell_type": "code",
      "source": "# print summary statistics\ndata.describe()",
      "execution_count": 25,
      "outputs": [
        {
          "output_type": "execute_result",
          "execution_count": 25,
          "data": {
            "text/plain": "                              AGE    PREAUTH_AMT   CLAIM_AMOUNT\ncount  479688.0000  479688.000000  479688.000000  479688.000000\nmean   239844.5000      44.912264   30428.941698   27652.205861\nstd    138474.1423      18.961084   27441.592281   25951.706037\nmin         1.0000       0.000000       5.000000       2.000000\n25%    119922.7500      34.000000   12500.000000   12500.000000\n50%    239844.5000      47.000000   25000.000000   23200.000000\n75%    359766.2500      59.000000   35000.000000   30600.000000\nmax    479688.0000     107.000000  520000.000000  520000.000000",
            "text/html": "<div>\n<style scoped>\n    .dataframe tbody tr th:only-of-type {\n        vertical-align: middle;\n    }\n\n    .dataframe tbody tr th {\n        vertical-align: top;\n    }\n\n    .dataframe thead th {\n        text-align: right;\n    }\n</style>\n<table border=\"1\" class=\"dataframe\">\n  <thead>\n    <tr style=\"text-align: right;\">\n      <th></th>\n      <th></th>\n      <th>AGE</th>\n      <th>PREAUTH_AMT</th>\n      <th>CLAIM_AMOUNT</th>\n    </tr>\n  </thead>\n  <tbody>\n    <tr>\n      <th>count</th>\n      <td>479688.0000</td>\n      <td>479688.000000</td>\n      <td>479688.000000</td>\n      <td>479688.000000</td>\n    </tr>\n    <tr>\n      <th>mean</th>\n      <td>239844.5000</td>\n      <td>44.912264</td>\n      <td>30428.941698</td>\n      <td>27652.205861</td>\n    </tr>\n    <tr>\n      <th>std</th>\n      <td>138474.1423</td>\n      <td>18.961084</td>\n      <td>27441.592281</td>\n      <td>25951.706037</td>\n    </tr>\n    <tr>\n      <th>min</th>\n      <td>1.0000</td>\n      <td>0.000000</td>\n      <td>5.000000</td>\n      <td>2.000000</td>\n    </tr>\n    <tr>\n      <th>25%</th>\n      <td>119922.7500</td>\n      <td>34.000000</td>\n      <td>12500.000000</td>\n      <td>12500.000000</td>\n    </tr>\n    <tr>\n      <th>50%</th>\n      <td>239844.5000</td>\n      <td>47.000000</td>\n      <td>25000.000000</td>\n      <td>23200.000000</td>\n    </tr>\n    <tr>\n      <th>75%</th>\n      <td>359766.2500</td>\n      <td>59.000000</td>\n      <td>35000.000000</td>\n      <td>30600.000000</td>\n    </tr>\n    <tr>\n      <th>max</th>\n      <td>479688.0000</td>\n      <td>107.000000</td>\n      <td>520000.000000</td>\n      <td>520000.000000</td>\n    </tr>\n  </tbody>\n</table>\n</div>"
          },
          "metadata": {}
        }
      ]
    },
    {
      "metadata": {
        "_uuid": "f46a3e2d51b788921ff9667aeefeae4acf5b0900"
      },
      "cell_type": "markdown",
      "source": "let's have a look at all the column names of the data. "
    },
    {
      "metadata": {
        "_kg_hide-input": false,
        "_kg_hide-output": false,
        "trusted": true,
        "_uuid": "3994dacd6627fe5fd89832fd4d355eb114fd55b8"
      },
      "cell_type": "code",
      "source": "# display all the column names in the data\ndata.columns",
      "execution_count": 26,
      "outputs": [
        {
          "output_type": "execute_result",
          "execution_count": 26,
          "data": {
            "text/plain": "Index(['   ', 'AGE', 'SEX', 'CASTE_NAME', 'CATEGORY_CODE', 'CATEGORY_NAME',\n       'SURGERY_CODE', 'SURGERY', 'VILLAGE', 'MANDAL_NAME', 'DISTRICT_NAME',\n       'PREAUTH_DATE', 'PREAUTH_AMT', 'CLAIM_DATE', 'CLAIM_AMOUNT',\n       'HOSP_NAME', 'HOSP_TYPE', 'HOSP_LOCATION', 'HOSP_DISTRICT',\n       'SURGERY_DATE', 'DISCHARGE_DATE', 'Mortality Y / N', 'MORTALITY_DATE',\n       'SRC_REGISTRATION'],\n      dtype='object')"
          },
          "metadata": {}
        }
      ]
    },
    {
      "metadata": {
        "_uuid": "c62aea5ceff3e742443abe2fa8ce43c914a1f50c"
      },
      "cell_type": "markdown",
      "source": "## Diving deeper into the data"
    },
    {
      "metadata": {
        "_uuid": "bffee16b17d1eaade1d9038bcce91f17f0b37e57"
      },
      "cell_type": "markdown",
      "source": "### What is the age distribution of the data?"
    },
    {
      "metadata": {
        "_uuid": "57643886b47dfe5b4c1ede755944617d8196df9e"
      },
      "cell_type": "markdown",
      "source": "*value_counts()* is a Pandas function that can be used to print the distributions of data (in the specified column). Let's begin by checking the gender stats of the data."
    },
    {
      "metadata": {
        "trusted": true,
        "_uuid": "f5fe97a1545fa7e0ff484e70ea06c7696ce192f8"
      },
      "cell_type": "code",
      "source": "# Display the counts of each value in the SEX column\ndata['SEX'].value_counts()",
      "execution_count": 27,
      "outputs": [
        {
          "output_type": "execute_result",
          "execution_count": 27,
          "data": {
            "text/plain": "Male             260718\nFemale           178947\nMale(Child)       25068\nFemale(Child)     14925\nFEMALE               21\nMALE                  9"
          },
          "metadata": {}
        }
      ]
    },
    {
      "metadata": {
        "_uuid": "e194cef08961d651834ed9bfaceccfb97402bf30"
      },
      "cell_type": "markdown",
      "source": "Oops! It looks like there are duplicate values in this column. *Male* and *MALE* are not two different genders! \n\nWe can *replace* the column names to fix this issue. I will also rename Male (Child) -> Boy and Female (Child) -> Girl for convinience purposes."
    },
    {
      "metadata": {
        "trusted": true,
        "_uuid": "99a7772d15e3a171ab6e48a423eb43afa7831e8f"
      },
      "cell_type": "code",
      "source": "# mappings to standardize and clean the values\nmappings = {'MALE' : 'Male', 'FEMALE' : 'Female', 'Male(Child)' : 'Boy', 'Female(Child)' : 'Girl'}",
      "execution_count": 28,
      "outputs": []
    },
    {
      "metadata": {
        "trusted": true,
        "_uuid": "79f45ad169d6a28068bff0d7b41264701c400a18"
      },
      "cell_type": "code",
      "source": "# replace values using the defined mappings\ndata['SEX'] = data['SEX'].replace(mappings)\ndata['SEX'].value_counts()",
      "execution_count": 29,
      "outputs": [
        {
          "output_type": "execute_result",
          "execution_count": 29,
          "data": {
            "text/plain": "Male      260727\nFemale    178968\nBoy        25068\nGirl       14925"
          },
          "metadata": {}
        }
      ]
    },
    {
      "metadata": {
        "_uuid": "d0240556a5b1f04e24ec9fd934deeefed64738c8"
      },
      "cell_type": "markdown",
      "source": "Visualizing this distribution can be done easily using the in-built plot function of Pandas."
    },
    {
      "metadata": {
        "trusted": true,
        "_uuid": "dcda1f0b90c7be08de6afe1b793c98798fe1f36b"
      },
      "cell_type": "code",
      "source": "# plot the value counts of sex \ndata['SEX'].value_counts().plot.bar()",
      "execution_count": 30,
      "outputs": [
        {
          "output_type": "execute_result",
          "execution_count": 30,
          "data": {
            "text/plain": "<matplotlib.axes._subplots.AxesSubplot at 0x7fcd41775cc0>"
          },
          "metadata": {}
        },
        {
          "output_type": "display_data",
          "data": {
            "text/plain": "<Figure size 432x288 with 1 Axes>",
            "image/png": "[encoded data removed]"
          },
          "metadata": {
            "needs_background": "light"
          }
        }
      ]
    },
    {
      "metadata": {
        "_uuid": "054bd96effe714b478ce136b7e39fb3970d0b5b8"
      },
      "cell_type": "markdown",
      "source": "### What is the age distribution of the data?"
    },
    {
      "metadata": {
        "_uuid": "f9970fbf7c21aff98cba076ba47e3a46b2430085"
      },
      "cell_type": "markdown",
      "source": "Mean, Median and Mode of the data."
    },
    {
      "metadata": {
        "trusted": true,
        "_uuid": "ec00f8bb13699429867785ec79d42b78d1a13739"
      },
      "cell_type": "code",
      "source": "# print the mean, median and mode of the age distribution\nprint(\"Mean: {}\".format(data['AGE'].mean()))\nprint(\"Median: {}\".format(data['AGE'].median()))\nprint(\"Mode: {}\".format(data['AGE'].mode()))",
      "execution_count": 31,
      "outputs": [
        {
          "output_type": "stream",
          "text": "Mean: 44.91226380480646\nMedian: 47.0\nMode: 0    0\n",
          "name": "stdout"
        }
      ]
    },
    {
      "metadata": {
        "_uuid": "83ad4c4247b0293100eb08cee636837b17d9d7a7"
      },
      "cell_type": "markdown",
      "source": "Top 10 common ages of the data. Feel free to play around by replacing 10 with the number of your choice."
    },
    {
      "metadata": {
        "trusted": true,
        "_uuid": "9eb0488d786f60d452568411aea1982fa7997d10"
      },
      "cell_type": "code",
      "source": "# print the top 10 ages\ndata['AGE'].value_counts().head(10)",
      "execution_count": 32,
      "outputs": [
        {
          "output_type": "execute_result",
          "execution_count": 32,
          "data": {
            "text/plain": "0     17513\n50    16191\n55    15184\n45    15052\n60    13732\n46    12858\n56    12590\n51    12470\n40    11962\n65    11878"
          },
          "metadata": {}
        }
      ]
    },
    {
      "metadata": {
        "_uuid": "40562a32ee01a6a2854713f9a5a5af61577ed964"
      },
      "cell_type": "markdown",
      "source": "Box plots are commonly used for visualizing a distribution when bar plots or scatter plots are too overwhelming to understand."
    },
    {
      "metadata": {
        "trusted": true,
        "_uuid": "2e720e15a7bdc74cf3f5a3937bc30e0ac7c24cea"
      },
      "cell_type": "code",
      "source": "# boxplot for age variable\ndata['AGE'].plot.box()\n# sns.boxplot(data['AGE'])",
      "execution_count": 33,
      "outputs": [
        {
          "output_type": "execute_result",
          "execution_count": 33,
          "data": {
            "text/plain": "<matplotlib.axes._subplots.AxesSubplot at 0x7fcd3fa4be80>"
          },
          "metadata": {}
        },
        {
          "output_type": "display_data",
          "data": {
            "text/plain": "<Figure size 432x288 with 1 Axes>",
            "image/png": "[encoded data removed]"
          },
          "metadata": {
            "needs_background": "light"
          }
        }
      ]
    },
    {
      "metadata": {
        "_uuid": "ce0456471733af1564ae8ed4a387babf82461962"
      },
      "cell_type": "markdown",
      "source": "in the above diagram, the box represents the **[Interquartile Range (IQR)](http://https://en.wikipedia.org/wiki/Interquartile_range)** of the data. \n\nInterquartile range is the region where 50% of the data lies (i.e) 25% to 75% of the data.\nAny data outside 1.5 times the IQR is generally considered an anomaly.  \n\nThe little circles in the above figure are considered outliters.\n\nThe seaborn library visualizes boxplot much better."
    },
    {
      "metadata": {
        "trusted": true,
        "_uuid": "9767310db76ef5327401e52828acaed806005569"
      },
      "cell_type": "code",
      "source": "# better looking boxplot (using seaborn) for age variable\nsns.boxplot(data['AGE'])",
      "execution_count": 34,
      "outputs": [
        {
          "output_type": "execute_result",
          "execution_count": 34,
          "data": {
            "text/plain": "<matplotlib.axes._subplots.AxesSubplot at 0x7fcd3f9b4b70>"
          },
          "metadata": {}
        },
        {
          "output_type": "display_data",
          "data": {
            "text/plain": "<Figure size 432x288 with 1 Axes>",
            "image/png": "[encoded data removed]"
          },
          "metadata": {
            "needs_background": "light"
          }
        }
      ]
    },
    {
      "metadata": {
        "_uuid": "e920506fd8b4015db64a9e561c65cf3040cc1c11"
      },
      "cell_type": "markdown",
      "source": "### Answering some questions"
    },
    {
      "metadata": {
        "_uuid": "80f9d6152640714c896924754e6f92798064b070"
      },
      "cell_type": "markdown",
      "source": "Now that we have a hold on the data being explored, let's jump into some questions to better understand the data!"
    },
    {
      "metadata": {
        "trusted": true,
        "_uuid": "a783ae63d8383ffc47b13567c81c9d7de722434e"
      },
      "cell_type": "markdown",
      "source": "**What if I wanted to analyze only the records pertaining to the district of Krishna?**\n\nI would have to select a subset of the data to proceed. Thankfully, Pandas can help us do that too, in two steps:\n    1. Condition to satisfy: data['DISTRICT_NAME']=='Krishna'\n    2. Inserting the condition into the dataframe: data[data['DISTRICT_NAME']=='Krishna']\n      "
    },
    {
      "metadata": {
        "trusted": true,
        "_uuid": "7856e814e3611237be2daca829949c342776265b"
      },
      "cell_type": "code",
      "source": "# subset involving only records of Krishna district\ndata[data['DISTRICT_NAME']=='Krishna'].head()",
      "execution_count": 35,
      "outputs": [
        {
          "output_type": "execute_result",
          "execution_count": 35,
          "data": {
            "text/plain": "          AGE       ...              MORTALITY_DATE SRC_REGISTRATION\n30    31   42       ...                         NaN                D\n56    57   52       ...                         NaN                D\n58    59   17       ...                         NaN                D\n97    98   75       ...         03/05/2015 00:00:00                P\n111  112   65       ...                         NaN                D\n\n[5 rows x 24 columns]",
            "text/html": "<div>\n<style scoped>\n    .dataframe tbody tr th:only-of-type {\n        vertical-align: middle;\n    }\n\n    .dataframe tbody tr th {\n        vertical-align: top;\n    }\n\n    .dataframe thead th {\n        text-align: right;\n    }\n</style>\n<table border=\"1\" class=\"dataframe\">\n  <thead>\n    <tr style=\"text-align: right;\">\n      <th></th>\n      <th></th>\n      <th>AGE</th>\n      <th>SEX</th>\n      <th>CASTE_NAME</th>\n      <th>CATEGORY_CODE</th>\n      <th>CATEGORY_NAME</th>\n      <th>SURGERY_CODE</th>\n      <th>SURGERY</th>\n      <th>VILLAGE</th>\n      <th>MANDAL_NAME</th>\n      <th>DISTRICT_NAME</th>\n      <th>PREAUTH_DATE</th>\n      <th>PREAUTH_AMT</th>\n      <th>CLAIM_DATE</th>\n      <th>CLAIM_AMOUNT</th>\n      <th>HOSP_NAME</th>\n      <th>HOSP_TYPE</th>\n      <th>HOSP_LOCATION</th>\n      <th>HOSP_DISTRICT</th>\n      <th>SURGERY_DATE</th>\n      <th>DISCHARGE_DATE</th>\n      <th>Mortality Y / N</th>\n      <th>MORTALITY_DATE</th>\n      <th>SRC_REGISTRATION</th>\n    </tr>\n  </thead>\n  <tbody>\n    <tr>\n      <th>30</th>\n      <td>31</td>\n      <td>42</td>\n      <td>Female</td>\n      <td>OC</td>\n      <td>S12</td>\n      <td>MEDICAL ONCOLOGY</td>\n      <td>S12.26.1</td>\n      <td>Chemotherapy for Acute Myeloid Leukemia with I...</td>\n      <td>Ward-1</td>\n      <td>Vijayawada</td>\n      <td>Krishna</td>\n      <td>05/08/2014 18:19:41</td>\n      <td>60000</td>\n      <td>17/11/2017 20:08:45</td>\n      <td>60000</td>\n      <td>Nims Hospitals</td>\n      <td>G</td>\n      <td>HYDERABAD</td>\n      <td>Hyderabad</td>\n      <td>06/08/2014 00:00:00</td>\n      <td>01/09/2014 00:00:00</td>\n      <td>NO</td>\n      <td>NaN</td>\n      <td>D</td>\n    </tr>\n    <tr>\n      <th>56</th>\n      <td>57</td>\n      <td>52</td>\n      <td>Male</td>\n      <td>BC</td>\n      <td>M5</td>\n      <td>CARDIOLOGY</td>\n      <td>M5.1.2</td>\n      <td>Management Of Acute MI With Angiogram</td>\n      <td>Ward-26</td>\n      <td>Vijayawada</td>\n      <td>Krishna</td>\n      <td>28/10/2014 20:12:49</td>\n      <td>30000</td>\n      <td>31/01/2017 19:49:15</td>\n      <td>25000</td>\n      <td>OZONE HOSPITALS</td>\n      <td>C</td>\n      <td>HYDERABAD</td>\n      <td>Ranga Reddy</td>\n      <td>28/10/2014 00:00:00</td>\n      <td>06/11/2014 00:00:00</td>\n      <td>NO</td>\n      <td>NaN</td>\n      <td>D</td>\n    </tr>\n    <tr>\n      <th>58</th>\n      <td>59</td>\n      <td>17</td>\n      <td>Female</td>\n      <td>SC</td>\n      <td>S7</td>\n      <td>CARDIAC AND CARDIOTHORACIC SURGERY</td>\n      <td>S7.2.10.1</td>\n      <td>Mitral Valve Replacement (With Valve)</td>\n      <td>Atapaka</td>\n      <td>Kaikalur</td>\n      <td>Krishna</td>\n      <td>01/11/2014 19:24:52</td>\n      <td>145000</td>\n      <td>17/02/2017 19:22:00</td>\n      <td>135000</td>\n      <td>Karumuri Hospital</td>\n      <td>C</td>\n      <td>GUNTUR</td>\n      <td>Guntur</td>\n      <td>04/11/2014 00:00:00</td>\n      <td>12/11/2014 00:00:00</td>\n      <td>NO</td>\n      <td>NaN</td>\n      <td>D</td>\n    </tr>\n    <tr>\n      <th>97</th>\n      <td>98</td>\n      <td>75</td>\n      <td>Male</td>\n      <td>BC</td>\n      <td>M6</td>\n      <td>NEPHROLOGY</td>\n      <td>M6.5</td>\n      <td>Maintenance Hemodialysis For Crf</td>\n      <td>Ward-13</td>\n      <td>Vijayawada</td>\n      <td>Krishna</td>\n      <td>10/04/2015 01:25:46</td>\n      <td>12500</td>\n      <td>03/10/2017 20:37:11</td>\n      <td>10000</td>\n      <td>Andhra Health Diagnostic Services LimitedGloba...</td>\n      <td>C</td>\n      <td>VIJAYAWADA</td>\n      <td>Krishna</td>\n      <td>08/04/2015 00:00:00</td>\n      <td>NaN</td>\n      <td>YES</td>\n      <td>03/05/2015 00:00:00</td>\n      <td>P</td>\n    </tr>\n    <tr>\n      <th>111</th>\n      <td>112</td>\n      <td>65</td>\n      <td>Male</td>\n      <td>OC</td>\n      <td>M7</td>\n      <td>NEUROLOGY</td>\n      <td>M7.4</td>\n      <td>Medical Management of Ischemic Strokes</td>\n      <td>Chilakalapudi (R)</td>\n      <td>Machilipatnam</td>\n      <td>Krishna</td>\n      <td>01/06/2015 17:27:57</td>\n      <td>20000</td>\n      <td>06/01/2017 23:39:39</td>\n      <td>10000</td>\n      <td>Rims General Hospital</td>\n      <td>G</td>\n      <td>KADAPA</td>\n      <td>YSR Kadapa</td>\n      <td>28/05/2015 00:00:00</td>\n      <td>01/06/2015 00:00:00</td>\n      <td>NO</td>\n      <td>NaN</td>\n      <td>D</td>\n    </tr>\n  </tbody>\n</table>\n</div>"
          },
          "metadata": {}
        }
      ]
    },
    {
      "metadata": {
        "_uuid": "9c242fd17479160f20a3a36f92f26d7998ea2b39"
      },
      "cell_type": "markdown",
      "source": "**Most prevalent surgery, district wise**\n\nCan be done by iterating through all the district names and selecting the subset of data for that district"
    },
    {
      "metadata": {
        "trusted": true,
        "_uuid": "10eb76eebb7eb16a9540e7028f9bc01cab634a86",
        "_kg_hide-input": false
      },
      "cell_type": "code",
      "source": "# Most common surgery by district\nfor i in data['DISTRICT_NAME'].unique():\n    print(\"District: {}\\nDisease and Count: {}\".format(i,data[data['DISTRICT_NAME']==i]['SURGERY'].value_counts().head(1)))",
      "execution_count": 36,
      "outputs": [
        {
          "output_type": "stream",
          "text": "District: Srikakulam\nDisease and Count: Maintenance Hemodialysis For Crf    3970\nDistrict: Kurnool\nDisease and Count: Surgical Correction Of Longbone Fracture    2943\nDistrict: Vizianagaram\nDisease and Count: Surgical Correction Of Longbone Fracture    2754\nDistrict: Guntur\nDisease and Count: Surgical Correction Of Longbone Fracture    5259\nDistrict: Vishakhapatnam\nDisease and Count: Maintenance Hemodialysis For Crf    5270\nDistrict: West Godavari\nDisease and Count: Maintenance Hemodialysis For Crf    5478\nDistrict: Krishna\nDisease and Count: Maintenance Hemodialysis For Crf    6026\nDistrict: East Godavari\nDisease and Count: Surgical Correction Of Longbone Fracture    6998\nDistrict: Prakasam\nDisease and Count: Maintenance Hemodialysis For Crf    6215\nDistrict: Nellore\nDisease and Count: Maintenance Hemodialysis For Crf    10824\nDistrict: YSR Kadapa\nDisease and Count: Surgical Correction Of Longbone Fracture    4532\nDistrict: Chittoor\nDisease and Count: Maintenance Hemodialysis For Crf    5221\nDistrict: Anantapur\nDisease and Count: Surgical Correction Of Longbone Fracture    5265\n",
          "name": "stdout"
        }
      ]
    },
    {
      "metadata": {
        "_uuid": "1edf4c4e5ffe16a32ce01f87252fcecbbff4f2fb"
      },
      "cell_type": "markdown",
      "source": "We can observe that only two surgeries top all the districts: \n    * Dialysis (7 districts)\n    * Longbone Fracture (6 districts)"
    },
    {
      "metadata": {
        "_uuid": "515f4c29401c3926da12f9a74bc355dadaa412f3"
      },
      "cell_type": "markdown",
      "source": "**Average claim amount, district wise**"
    },
    {
      "metadata": {
        "trusted": true,
        "scrolled": true,
        "_uuid": "a9388061e6230b1d17901bd3a90c53e118e18ffd"
      },
      "cell_type": "code",
      "source": "# Average claim amount for surgery by district\nfor i in data['DISTRICT_NAME'].unique():\n    print(\"District: {}\\nAverage Claim Amount: ₹{}\".format(i,data[data['DISTRICT_NAME']==i]['CLAIM_AMOUNT'].mean()))",
      "execution_count": 37,
      "outputs": [
        {
          "output_type": "stream",
          "text": "District: Srikakulam\nAverage Claim Amount: ₹25593.712618634367\nDistrict: Kurnool\nAverage Claim Amount: ₹28598.91853309593\nDistrict: Vizianagaram\nAverage Claim Amount: ₹25097.78006899492\nDistrict: Guntur\nAverage Claim Amount: ₹31048.73950729927\nDistrict: Vishakhapatnam\nAverage Claim Amount: ₹25977.94638304871\nDistrict: West Godavari\nAverage Claim Amount: ₹27936.70608610806\nDistrict: Krishna\nAverage Claim Amount: ₹31015.383233247547\nDistrict: East Godavari\nAverage Claim Amount: ₹26166.136719737173\nDistrict: Prakasam\nAverage Claim Amount: ₹28655.81036215859\nDistrict: Nellore\nAverage Claim Amount: ₹26105.122376744654\nDistrict: YSR Kadapa\nAverage Claim Amount: ₹27945.216899192998\nDistrict: Chittoor\nAverage Claim Amount: ₹25708.102690948628\nDistrict: Anantapur\nAverage Claim Amount: ₹27664.166978581827\n",
          "name": "stdout"
        }
      ]
    },
    {
      "metadata": {
        "_uuid": "14390a8e64a68ef435bc2c5b0e8a0e7127c7de75"
      },
      "cell_type": "markdown",
      "source": "The standard deviation doesn't seem to be quite high in this case. Guntur district leads the pack with ₹31048 while Vizianagaram comes last with ₹25097"
    },
    {
      "metadata": {
        "_uuid": "0b41795fc91b7eb47b5a3c17a13bec8815fdde74"
      },
      "cell_type": "markdown",
      "source": "**Statistics by surgery category**\n\nWe will be using the Pandas GroupBy construct to gather statistics by grouping data by the surgery category.  The groupby of Pandas works similar to the SQL command of the same name"
    },
    {
      "metadata": {
        "trusted": true,
        "_uuid": "017c61dd85a6157ccd2eca1e362220da917b5abd"
      },
      "cell_type": "code",
      "source": "# group by surgery category to get mean statistics\ndata.groupby('CATEGORY_NAME').mean()",
      "execution_count": 38,
      "outputs": [
        {
          "output_type": "execute_result",
          "execution_count": 38,
          "data": {
            "text/plain": "                                                        ...         CLAIM_AMOUNT\nCATEGORY_NAME                                           ...                     \nCARDIAC AND CARDIOTHORACIC SURGERY   220433.263365      ...         82487.123074\nCARDIOLOGY                           222494.427828      ...         26731.893660\nCOCHLEAR IMPLANT SURGERY              64429.337838      ...        516486.486486\nCRITICAL CARE                        225189.278328      ...         50185.150797\nDERMATOLOGY                          145752.231707      ...         21728.353659\nENDOCRINOLOGY                        173188.782353      ...         14875.437255\nENT  SURGERY                         248911.441121      ...         14938.095612\nGASTROENTEROLOGY                     169310.423028      ...         23798.118922\nGENERAL MEDICINE                     116546.798682      ...         21840.991215\nGENERAL SURGERY                      235830.565758      ...         28142.764203\nGENITO URINARY SURGERIES             284262.259268      ...         28709.646344\nGYNAECOLOGY AND OBSTETRICS  SURGERY  201418.690508      ...         23180.202474\nINFECTIOUS DISEASES                  249988.600000      ...         24336.000000\nMEDICAL ONCOLOGY                     280490.133228      ...          6819.998475\nNEPHROLOGY                           203077.300279      ...         13524.963628\nNEUROLOGY                            178986.230597      ...         19810.427139\nNEUROSURGERY                         238563.168178      ...         49993.359806\nOPHTHALMOLOGY  SURGERY               294652.070318      ...         15848.563286\nORTHOPEDIC  SURGERY AND PROCEDURES   222855.005323      ...         23291.952598\nPEDIATRIC SURGERIES                  229981.847773      ...         32061.504598\nPEDIATRICS                           195086.758737      ...         24837.604014\nPLASTIC SURGERY                      198123.497622      ...         37437.164090\nPOLY TRAUMA                          261038.321653      ...         28247.750837\nPROSTHESES                           125094.500000      ...          1200.000000\nPULMONOLOGY                          190774.119006      ...         25631.090065\nRADIATION ONCOLOGY                   242472.234006      ...         31808.693718\nRHEUMATOLOGY                         129326.780612      ...         20852.372449\nSURGICAL GASTRO ENTEROLOGY           217841.149146      ...         59249.639712\nSURGICAL ONCOLOGY                    255125.222719      ...         42502.467151\n\n[29 rows x 4 columns]",
            "text/html": "<div>\n<style scoped>\n    .dataframe tbody tr th:only-of-type {\n        vertical-align: middle;\n    }\n\n    .dataframe tbody tr th {\n        vertical-align: top;\n    }\n\n    .dataframe thead th {\n        text-align: right;\n    }\n</style>\n<table border=\"1\" class=\"dataframe\">\n  <thead>\n    <tr style=\"text-align: right;\">\n      <th></th>\n      <th></th>\n      <th>AGE</th>\n      <th>PREAUTH_AMT</th>\n      <th>CLAIM_AMOUNT</th>\n    </tr>\n    <tr>\n      <th>CATEGORY_NAME</th>\n      <th></th>\n      <th></th>\n      <th></th>\n      <th></th>\n    </tr>\n  </thead>\n  <tbody>\n    <tr>\n      <th>CARDIAC AND CARDIOTHORACIC SURGERY</th>\n      <td>220433.263365</td>\n      <td>51.764553</td>\n      <td>87052.165471</td>\n      <td>82487.123074</td>\n    </tr>\n    <tr>\n      <th>CARDIOLOGY</th>\n      <td>222494.427828</td>\n      <td>54.652048</td>\n      <td>33215.140211</td>\n      <td>26731.893660</td>\n    </tr>\n    <tr>\n      <th>COCHLEAR IMPLANT SURGERY</th>\n      <td>64429.337838</td>\n      <td>1.581081</td>\n      <td>520000.000000</td>\n      <td>516486.486486</td>\n    </tr>\n    <tr>\n      <th>CRITICAL CARE</th>\n      <td>225189.278328</td>\n      <td>51.014649</td>\n      <td>69927.226196</td>\n      <td>50185.150797</td>\n    </tr>\n    <tr>\n      <th>DERMATOLOGY</th>\n      <td>145752.231707</td>\n      <td>46.573171</td>\n      <td>28003.012195</td>\n      <td>21728.353659</td>\n    </tr>\n    <tr>\n      <th>ENDOCRINOLOGY</th>\n      <td>173188.782353</td>\n      <td>45.066667</td>\n      <td>18981.376471</td>\n      <td>14875.437255</td>\n    </tr>\n    <tr>\n      <th>ENT  SURGERY</th>\n      <td>248911.441121</td>\n      <td>32.521940</td>\n      <td>15691.907198</td>\n      <td>14938.095612</td>\n    </tr>\n    <tr>\n      <th>GASTROENTEROLOGY</th>\n      <td>169310.423028</td>\n      <td>41.662383</td>\n      <td>37085.464601</td>\n      <td>23798.118922</td>\n    </tr>\n    <tr>\n      <th>GENERAL MEDICINE</th>\n      <td>116546.798682</td>\n      <td>35.330161</td>\n      <td>30347.573939</td>\n      <td>21840.991215</td>\n    </tr>\n    <tr>\n      <th>GENERAL SURGERY</th>\n      <td>235830.565758</td>\n      <td>44.979473</td>\n      <td>29818.585421</td>\n      <td>28142.764203</td>\n    </tr>\n    <tr>\n      <th>GENITO URINARY SURGERIES</th>\n      <td>284262.259268</td>\n      <td>43.718295</td>\n      <td>29426.211532</td>\n      <td>28709.646344</td>\n    </tr>\n    <tr>\n      <th>GYNAECOLOGY AND OBSTETRICS  SURGERY</th>\n      <td>201418.690508</td>\n      <td>41.442323</td>\n      <td>27614.600699</td>\n      <td>23180.202474</td>\n    </tr>\n    <tr>\n      <th>INFECTIOUS DISEASES</th>\n      <td>249988.600000</td>\n      <td>35.800000</td>\n      <td>27970.000000</td>\n      <td>24336.000000</td>\n    </tr>\n    <tr>\n      <th>MEDICAL ONCOLOGY</th>\n      <td>280490.133228</td>\n      <td>48.545298</td>\n      <td>7234.080290</td>\n      <td>6819.998475</td>\n    </tr>\n    <tr>\n      <th>NEPHROLOGY</th>\n      <td>203077.300279</td>\n      <td>48.011808</td>\n      <td>14309.566173</td>\n      <td>13524.963628</td>\n    </tr>\n    <tr>\n      <th>NEUROLOGY</th>\n      <td>178986.230597</td>\n      <td>56.160018</td>\n      <td>24547.013248</td>\n      <td>19810.427139</td>\n    </tr>\n    <tr>\n      <th>NEUROSURGERY</th>\n      <td>238563.168178</td>\n      <td>43.187689</td>\n      <td>53718.705139</td>\n      <td>49993.359806</td>\n    </tr>\n    <tr>\n      <th>OPHTHALMOLOGY  SURGERY</th>\n      <td>294652.070318</td>\n      <td>49.846924</td>\n      <td>16474.566599</td>\n      <td>15848.563286</td>\n    </tr>\n    <tr>\n      <th>ORTHOPEDIC  SURGERY AND PROCEDURES</th>\n      <td>222855.005323</td>\n      <td>36.967490</td>\n      <td>27358.743536</td>\n      <td>23291.952598</td>\n    </tr>\n    <tr>\n      <th>PEDIATRIC SURGERIES</th>\n      <td>229981.847773</td>\n      <td>3.504840</td>\n      <td>34134.385044</td>\n      <td>32061.504598</td>\n    </tr>\n    <tr>\n      <th>PEDIATRICS</th>\n      <td>195086.758737</td>\n      <td>1.413553</td>\n      <td>29797.617781</td>\n      <td>24837.604014</td>\n    </tr>\n    <tr>\n      <th>PLASTIC SURGERY</th>\n      <td>198123.497622</td>\n      <td>27.419738</td>\n      <td>61115.505351</td>\n      <td>37437.164090</td>\n    </tr>\n    <tr>\n      <th>POLY TRAUMA</th>\n      <td>261038.321653</td>\n      <td>46.256150</td>\n      <td>32501.263044</td>\n      <td>28247.750837</td>\n    </tr>\n    <tr>\n      <th>PROSTHESES</th>\n      <td>125094.500000</td>\n      <td>48.500000</td>\n      <td>1200.000000</td>\n      <td>1200.000000</td>\n    </tr>\n    <tr>\n      <th>PULMONOLOGY</th>\n      <td>190774.119006</td>\n      <td>51.937149</td>\n      <td>32743.249244</td>\n      <td>25631.090065</td>\n    </tr>\n    <tr>\n      <th>RADIATION ONCOLOGY</th>\n      <td>242472.234006</td>\n      <td>51.835382</td>\n      <td>33656.716935</td>\n      <td>31808.693718</td>\n    </tr>\n    <tr>\n      <th>RHEUMATOLOGY</th>\n      <td>129326.780612</td>\n      <td>29.392857</td>\n      <td>28897.321429</td>\n      <td>20852.372449</td>\n    </tr>\n    <tr>\n      <th>SURGICAL GASTRO ENTEROLOGY</th>\n      <td>217841.149146</td>\n      <td>44.645103</td>\n      <td>64127.925427</td>\n      <td>59249.639712</td>\n    </tr>\n    <tr>\n      <th>SURGICAL ONCOLOGY</th>\n      <td>255125.222719</td>\n      <td>50.940826</td>\n      <td>45243.913335</td>\n      <td>42502.467151</td>\n    </tr>\n  </tbody>\n</table>\n</div>"
          },
          "metadata": {}
        }
      ]
    },
    {
      "metadata": {
        "_uuid": "470cdfbcf914cc518d1525c384be7895436bb2e4"
      },
      "cell_type": "markdown",
      "source": "Cochlear Implant Surgery seems to be the costliest surgery, costing ₹520000 on average. Prostheses costs ₹1200, the cheapest. The youngest age group also happens to be for Cochlear Implant Surgery: 1.58 years, while Neurology has an average patient age of ~56."
    },
    {
      "metadata": {
        "_uuid": "7010a66455e53939062a0530a3468eca2cf003d0"
      },
      "cell_type": "markdown",
      "source": "**Most common surgery by age group**\n\nTo find the most common surgery by age group, let's round off the ages to the nearest ten's place. Make a copy of the dataframe for this operation as we would not want to tinker with the original dataframe."
    },
    {
      "metadata": {
        "trusted": true,
        "_uuid": "87545ae3eb1a4a4221e741037d57eb4603bc45f2"
      },
      "cell_type": "code",
      "source": "# create a new memory copy of data to manipulate age \ndataround = data.copy()",
      "execution_count": 39,
      "outputs": []
    },
    {
      "metadata": {
        "_uuid": "299226d237b866bebee79abf06173393e09eb1c7"
      },
      "cell_type": "markdown",
      "source": "We will use the Pandas round function to round off the Age. *-1* specifies that we round up one digit to the left of the decimal place"
    },
    {
      "metadata": {
        "trusted": true,
        "_uuid": "ad4f2cc897cbbab1f682ed2f36d9b77abc41527b"
      },
      "cell_type": "code",
      "source": "# round the age variable to 0 or 1 (nearest)\ndataround['AGE'] = dataround['AGE'].round(-1)",
      "execution_count": 40,
      "outputs": []
    },
    {
      "metadata": {
        "_uuid": "cf785a57d4529ab715db2a7cd1973e35249850d1"
      },
      "cell_type": "markdown",
      "source": "visualizing the age groups using seaborn's countplot function"
    },
    {
      "metadata": {
        "trusted": true,
        "_uuid": "5cc771e7f23696b1c097ac749d2a41458d06234b"
      },
      "cell_type": "code",
      "source": "# a frequency plot for each age group\nsns.countplot(dataround['AGE'])",
      "execution_count": 41,
      "outputs": [
        {
          "output_type": "execute_result",
          "execution_count": 41,
          "data": {
            "text/plain": "<matplotlib.axes._subplots.AxesSubplot at 0x7fcd3f99a7b8>"
          },
          "metadata": {}
        },
        {
          "output_type": "display_data",
          "data": {
            "text/plain": "<Figure size 432x288 with 1 Axes>",
            "image/png": "[encoded data removed]"
          },
          "metadata": {
            "needs_background": "light"
          }
        }
      ]
    },
    {
      "metadata": {
        "_uuid": "293cbab7ccc792be8215b052624d7b6c4355efa4"
      },
      "cell_type": "markdown",
      "source": "**Most common surgery per age group**"
    },
    {
      "metadata": {
        "trusted": true,
        "_uuid": "89fa2bca7a6b8ecdd54f295e14840079be8888d1"
      },
      "cell_type": "code",
      "source": "# Most common surgery and count per age group\nfor i in sorted(dataround['AGE'].unique()):\n    print(\"Age Group: {}\\nMost Common Surgery and Count: {}\".format(i,data[data['AGE']==i]['CATEGORY_NAME'].value_counts().head(1)))",
      "execution_count": 42,
      "outputs": [
        {
          "output_type": "stream",
          "text": "Age Group: 0\nMost Common Surgery and Count: PEDIATRICS    15096\nAge Group: 10\nMost Common Surgery and Count: POLY TRAUMA    390\nAge Group: 20\nMost Common Surgery and Count: POLY TRAUMA    729\nAge Group: 30\nMost Common Surgery and Count: POLY TRAUMA    1125\nAge Group: 40\nMost Common Surgery and Count: MEDICAL ONCOLOGY    2425\nAge Group: 50\nMost Common Surgery and Count: MEDICAL ONCOLOGY    3171\nAge Group: 60\nMost Common Surgery and Count: MEDICAL ONCOLOGY    2447\nAge Group: 70\nMost Common Surgery and Count: POLY TRAUMA    1845\nAge Group: 80\nMost Common Surgery and Count: POLY TRAUMA    584\nAge Group: 90\nMost Common Surgery and Count: POLY TRAUMA    67\nAge Group: 100\nMost Common Surgery and Count: POLY TRAUMA    1\nAge Group: 110\nMost Common Surgery and Count: Series([], )\n",
          "name": "stdout"
        }
      ]
    },
    {
      "metadata": {
        "_uuid": "8667c005b718c28b4dbf79add351bad8ddb6bca6"
      },
      "cell_type": "markdown",
      "source": "## Practise Exercises\n\nFeeling adventerous? Fork this notebook and solve the following challenges to get some practise!"
    },
    {
      "metadata": {
        "_uuid": "5cdf389928501dc9cb490cc1dffcfa3bda6c7220"
      },
      "cell_type": "markdown",
      "source": "**Value counts of districts**"
    },
    {
      "metadata": {
        "trusted": true,
        "_uuid": "454eddd91498a611784c58f39a620e0ae76b0847"
      },
      "cell_type": "code",
      "source": "",
      "execution_count": null,
      "outputs": []
    },
    {
      "metadata": {
        "_uuid": "297d9249d4ed9383cdda2be2e528538f7ca3f54a"
      },
      "cell_type": "markdown",
      "source": "**Average claim amount for male patients**"
    },
    {
      "metadata": {
        "trusted": true,
        "_uuid": "73cce59724c9a9147fc5917264d45fa2e3d9f6a6"
      },
      "cell_type": "code",
      "source": "",
      "execution_count": null,
      "outputs": []
    },
    {
      "metadata": {
        "_uuid": "c56b1c322400a557492f2abcde42048fae357b3f"
      },
      "cell_type": "markdown",
      "source": "**Most common hospital names for treatment**"
    },
    {
      "metadata": {
        "trusted": true,
        "_uuid": "a640c071e4f5a7db0249674ea1240af26e1a3237"
      },
      "cell_type": "code",
      "source": "",
      "execution_count": null,
      "outputs": []
    },
    {
      "metadata": {
        "_uuid": "e70fd88ca33ce86eefaa22879ffaeaa7020aa613"
      },
      "cell_type": "markdown",
      "source": "**Most common age groups  by district** (hint: use dataround)"
    },
    {
      "metadata": {
        "trusted": true,
        "_uuid": "97d0b8428c9a70df1543c5182840d97a44796713"
      },
      "cell_type": "code",
      "source": "",
      "execution_count": null,
      "outputs": []
    },
    {
      "metadata": {
        "_uuid": "3771d1d3d0dfac109f33c6788f2b63aacce1308f"
      },
      "cell_type": "markdown",
      "source": "**Add your own questions here!**"
    },
    {
      "metadata": {
        "trusted": true,
        "_uuid": "472909464bdfe58e1a75538b8164eb402e88aaaf"
      },
      "cell_type": "code",
      "source": "",
      "execution_count": null,
      "outputs": []
    },
    {
      "metadata": {
        "_uuid": "81a24721550c8e80591556b0f3c980be7126dbc5"
      },
      "cell_type": "markdown",
      "source": "## The End"
    },
    {
      "metadata": {
        "_uuid": "8fcda9aec50cd669784004a0083770b8ebd27ce2"
      },
      "cell_type": "markdown",
      "source": "You're reached the end of the notebook. Congratulations!\n\nI really hope you learnt something and enjoyed going through this notebook. If yes, please upvote and share the notebook!\n\nFeedback? Corrections? Applause? Please comment below! \n\nThis is my first public educative kernel. I hope my performance improves over epochs!\n"
    }
  ],
  "metadata": {
    "kernelspec": {
      "display_name": "Python 3",
      "language": "python",
      "name": "python3"
    },
    "language_info": {
      "name": "python",
      "version": "3.6.6",
      "mimetype": "text/x-python",
      "codemirror_mode": {
        "name": "ipython",
        "version": 3
      },
      "pygments_lexer": "ipython3",
      "nbconvert_exporter": "python",
      "file_extension": ".py"
    }
  },
  "nbformat": 4,
  "nbformat_minor": 1
}